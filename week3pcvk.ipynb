{
  "nbformat": 4,
  "nbformat_minor": 0,
  "metadata": {
    "colab": {
      "name": "week3pcvk.ipynb",
      "provenance": [],
      "authorship_tag": "ABX9TyMJVuMcmV2deqfjl1fj9wm6",
      "include_colab_link": true
    },
    "kernelspec": {
      "name": "python3",
      "display_name": "Python 3"
    },
    "language_info": {
      "name": "python"
    }
  },
  "cells": [
    {
      "cell_type": "markdown",
      "metadata": {
        "id": "view-in-github",
        "colab_type": "text"
      },
      "source": [
        "<a href=\"https://colab.research.google.com/github/durisaaprilian/PCVK_Matrikulasi/blob/main/week3pcvk.ipynb\" target=\"_parent\"><img src=\"https://colab.research.google.com/assets/colab-badge.svg\" alt=\"Open In Colab\"/></a>"
      ]
    },
    {
      "cell_type": "code",
      "execution_count": 1,
      "metadata": {
        "colab": {
          "base_uri": "https://localhost:8080/"
        },
        "id": "Iw0sVkpiO13w",
        "outputId": "d671d7d5-d72d-40d3-9c5d-9140390b144e"
      },
      "outputs": [
        {
          "output_type": "stream",
          "name": "stdout",
          "text": [
            "Mounted at /content/drive\n"
          ]
        }
      ],
      "source": [
        "from google.colab import drive\n",
        "\n",
        "drive.mount('/content/drive')"
      ]
    },
    {
      "cell_type": "code",
      "source": [
        "print('Mengubah tingkat kecerahan citra')\n",
        "print('--------------------------------')\n",
        "try:\n",
        "  brightness=int(input('Masukkan nilai kecerahan : '))\n",
        "except ValueError:\n",
        "  print('Error, not a number')\n",
        "\n",
        "original=cv.imread('/content/drive/MyDrive/PCVK/female.tiff')\n",
        "brightness_image=np.zeros(original.shape, original.dtype)\n",
        "\n",
        "#Akses per piksel\n",
        "for y in range(original.shape[0]);\n",
        "  for x in range(original.shape[1]);\n",
        "    for c in range(original.shape[2]);\n",
        "      brightness_image[y,x,c]=np.clip(original[y,x,c]+brightness,0,255)\n",
        "\n",
        "#Cara simple tanpa for loop\n",
        "#brightness_image=cv.convertScaleAbs(original,beta=brightness)\n",
        "\n",
        "final_frame=cv.hconcat((original,brightness_image))\n",
        "cv2_imshow(final_frame)"
      ],
      "metadata": {
        "colab": {
          "base_uri": "https://localhost:8080/",
          "height": 130
        },
        "id": "wk7meZ-8PghD",
        "outputId": "a951898a-7267-45de-9386-991f5bc81b1c"
      },
      "execution_count": 2,
      "outputs": [
        {
          "output_type": "error",
          "ename": "SyntaxError",
          "evalue": "ignored",
          "traceback": [
            "\u001b[0;36m  File \u001b[0;32m\"<ipython-input-2-5cd3f00a18f7>\"\u001b[0;36m, line \u001b[0;32m12\u001b[0m\n\u001b[0;31m    for y in range(original.shape[0]);\u001b[0m\n\u001b[0m                                     ^\u001b[0m\n\u001b[0;31mSyntaxError\u001b[0m\u001b[0;31m:\u001b[0m invalid syntax\n"
          ]
        }
      ]
    }
  ]
}