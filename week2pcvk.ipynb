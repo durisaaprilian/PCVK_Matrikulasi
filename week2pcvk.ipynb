{
  "nbformat": 4,
  "nbformat_minor": 0,
  "metadata": {
    "colab": {
      "name": "w1t2pcvk.ipynb",
      "provenance": [],
      "authorship_tag": "ABX9TyMN1/cmLQgoTonDR3gXeFZl",
      "include_colab_link": true
    },
    "kernelspec": {
      "name": "python3",
      "display_name": "Python 3"
    },
    "language_info": {
      "name": "python"
    }
  },
  "cells": [
    {
      "cell_type": "markdown",
      "metadata": {
        "id": "view-in-github",
        "colab_type": "text"
      },
      "source": [
        "<a href=\"https://colab.research.google.com/github/durisaaprilian/PCVK_Matrikulasi/blob/main/week2pcvk.ipynb\" target=\"_parent\"><img src=\"https://colab.research.google.com/assets/colab-badge.svg\" alt=\"Open In Colab\"/></a>"
      ]
    },
    {
      "cell_type": "code",
      "execution_count": null,
      "metadata": {
        "id": "J8PlBwMo9wdy"
      },
      "outputs": [],
      "source": [
        ""
      ]
    }
  ]
}